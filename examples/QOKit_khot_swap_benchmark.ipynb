{
 "cells": [
  {
   "cell_type": "markdown",
   "metadata": {},
   "source": [
    "# QAOA Benchmark: k-hot, SWAP, XY, X Mixers\n",
    "\n",
    "This notebook benchmarks QAOA performance on random Hamiltonians\n",
    "using k-hot initial states and different mixers.\n",
    "\n",
    "---\n",
    "\n",
    "## How To Run This Notebook\n",
    "\n",
    "**1. Build the C simulator**\n",
    "\n",
    "If you’re running QOKit from source, compile the C backend:\n",
    "\n",
    "```bash\n",
    "cd qokit/fur/c/csim/src\n",
    "make clean\n",
    "make CC=gcc-15\n",
    "cp ../libcsim.dylib ../libcsim.so\n"
   ]
  },
  {
   "cell_type": "code",
   "execution_count": null,
   "metadata": {},
   "outputs": [],
   "source": [
    "# QAOA Benchmark Notebook\n",
    "# ------------------------\n",
    "\n",
    "import numpy as np\n",
    "import scipy.optimize\n",
    "import pandas as pd\n",
    "import matplotlib.pyplot as plt\n",
    "\n",
    "from qokit.qaoa_objective import get_qaoa_objective\n",
    "\n",
    "print(\"All libraries imported.\")"
   ]
  },
  {
   "cell_type": "code",
   "execution_count": null,
   "metadata": {},
   "outputs": [],
   "source": [
    "# Benchmark Parameters\n",
    "\n",
    "N = 10              # Number of qubits\n",
    "K = 3               # Hamming weight\n",
    "p = 3               # QAOA layers\n",
    "num_terms = 50      # Hamiltonian terms\n",
    "n_trials = 20       # Random restarts\n",
    "\n",
    "print(f\"Benchmark setup:\\nN = {N}, K = {K}, p = {p}\")"
   ]
  },
  {
   "cell_type": "code",
   "execution_count": null,
   "metadata": {},
   "outputs": [],
   "source": [
    "# Generate random Hamiltonian\n",
    "\n",
    "np.random.seed(42)\n",
    "\n",
    "terms = []\n",
    "for _ in range(num_terms):\n",
    "    i, j = np.random.choice(N, size=2, replace=False)\n",
    "    coeff = np.random.uniform(-1, 1)\n",
    "    terms.append((coeff, [int(i), int(j)]))\n",
    "\n",
    "print(f\"Random Hamiltonian generated with {len(terms)} terms.\")"
   ]
  },
  {
   "cell_type": "code",
   "execution_count": null,
   "metadata": {},
   "outputs": [],
   "source": [
    "# Benchmark loop for X, XY and SWAP\n",
    "\n",
    "mixers_to_test = [\"x\", \"xy\", \"swap\"]\n",
    "\n",
    "results = []\n",
    "\n",
    "for m in mixers_to_test:\n",
    "    best_cost = float(\"inf\")\n",
    "    all_costs = []\n",
    "    nfev_list = []\n",
    "    \n",
    "    for trial in range(n_trials):\n",
    "        theta0 = np.random.uniform(-np.pi, np.pi, size=2*p)\n",
    "        \n",
    "        # Determine k-hot argument\n",
    "        if m in [\"xy\", \"swap\"]:\n",
    "            f = get_qaoa_objective(\n",
    "                N=N,\n",
    "                terms=terms,\n",
    "                mixer=m,\n",
    "                k_hot=K\n",
    "            )\n",
    "            khot_flag = True\n",
    "        else:\n",
    "            f = get_qaoa_objective(\n",
    "                N=N,\n",
    "                terms=terms,\n",
    "                mixer=m,\n",
    "                k_hot=None\n",
    "            )\n",
    "            khot_flag = False\n",
    "        \n",
    "        res = scipy.optimize.minimize(\n",
    "            f,\n",
    "            theta0,\n",
    "            method=\"COBYLA\",\n",
    "            options={\"maxiter\": 500}\n",
    "        )\n",
    "        \n",
    "        all_costs.append(res.fun)\n",
    "        nfev_list.append(res.nfev)\n",
    "        \n",
    "        if res.fun < best_cost:\n",
    "            best_cost = res.fun\n",
    "    \n",
    "    avg_cost = np.mean(all_costs)\n",
    "    std_cost = np.std(all_costs)\n",
    "    avg_nfev = np.mean(nfev_list)\n",
    "    \n",
    "    results.append({\n",
    "        \"Mixer\": m,\n",
    "        \"k-hot Used\": khot_flag,\n",
    "        \"Best Final Cost\": best_cost,\n",
    "        \"Average Final Cost\": avg_cost,\n",
    "        \"Std Dev\": std_cost,\n",
    "        \"Average Function Evaluations\": avg_nfev\n",
    "    })\n",
    "\n",
    "df = pd.DataFrame(results)\n",
    "print(df)\n"
   ]
  },
  {
   "cell_type": "code",
   "execution_count": null,
   "metadata": {},
   "outputs": [],
   "source": [
    "# Plot average cost comparison\n",
    "\n",
    "plt.figure(figsize=(6,4))\n",
    "bars = plt.bar(df[\"Mixer\"], df[\"Average Final Cost\"], color=['lightgreen', 'skyblue', 'salmon'])\n",
    "plt.ylabel(\"Average Final Cost\")\n",
    "plt.title(f\"QAOA Benchmark N={N}, k={K}, p={p}\")\n",
    "plt.show()\n"
   ]
  },
  {
   "cell_type": "code",
   "execution_count": null,
   "metadata": {},
   "outputs": [],
   "source": [
    "# Display table nicely\n",
    "\n",
    "print(\"=== Benchmark Summary ===\")\n",
    "display(df)"
   ]
  }
 ],
 "metadata": {
  "kernelspec": {
   "display_name": "Python 3",
   "language": "python",
   "name": "python3"
  },
  "language_info": {
   "codemirror_mode": {
    "name": "ipython",
    "version": 3
   },
   "file_extension": ".py",
   "mimetype": "text/x-python",
   "name": "python",
   "nbconvert_exporter": "python",
   "pygments_lexer": "ipython3",
   "version": "3.11.10"
  }
 },
 "nbformat": 4,
 "nbformat_minor": 2
}
